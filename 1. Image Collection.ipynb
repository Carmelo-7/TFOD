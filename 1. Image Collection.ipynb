{
 "cells": [
  {
   "cell_type": "markdown",
   "metadata": {},
   "source": [
    "# 1. Import Dependencies"
   ]
  },
  {
   "cell_type": "code",
   "execution_count": null,
   "metadata": {},
   "outputs": [],
   "source": [
    "!pip install opencv-python"
   ]
  },
  {
   "cell_type": "code",
   "execution_count": null,
   "metadata": {},
   "outputs": [],
   "source": [
    "pip install matplotlib"
   ]
  },
  {
   "cell_type": "code",
   "execution_count": 1,
   "metadata": {},
   "outputs": [],
   "source": [
    "# Import opencv\n",
    "import cv2 \n",
    "\n",
    "# Import uuid\n",
    "import uuid\n",
    "\n",
    "# Import Operating System\n",
    "import os\n",
    "\n",
    "# Import time\n",
    "import time\n",
    "\n"
   ]
  },
  {
   "cell_type": "markdown",
   "metadata": {},
   "source": [
    "# 2. Define Images to Collect"
   ]
  },
  {
   "cell_type": "code",
   "execution_count": 8,
   "metadata": {},
   "outputs": [],
   "source": [
    "labels = ['thumbsup', 'thumbsdown', 'thankyou', 'livelong']\n",
    "#labels=['thumbsup']\n",
    "number_imgs = 5"
   ]
  },
  {
   "cell_type": "markdown",
   "metadata": {},
   "source": [
    "# 3. Setup Folders "
   ]
  },
  {
   "cell_type": "code",
   "execution_count": 3,
   "metadata": {},
   "outputs": [],
   "source": [
    "IMAGES_PATH = os.path.join('Tensorflow', 'workspace', 'images', 'collectedimages')"
   ]
  },
  {
   "cell_type": "code",
   "execution_count": 4,
   "metadata": {},
   "outputs": [],
   "source": [
    "if not os.path.exists(IMAGES_PATH):\n",
    "    if os.name == 'posix':\n",
    "        !mkdir -p {IMAGES_PATH}\n",
    "    if os.name == 'nt':\n",
    "         !mkdir {IMAGES_PATH}\n",
    "for label in labels:\n",
    "    path = os.path.join(IMAGES_PATH, label)\n",
    "    if not os.path.exists(path):\n",
    "        !mkdir {path}"
   ]
  },
  {
   "cell_type": "markdown",
   "metadata": {},
   "source": [
    "# 4. Capture Images"
   ]
  },
  {
   "cell_type": "code",
   "execution_count": 6,
   "metadata": {
    "scrolled": true
   },
   "outputs": [
    {
     "name": "stdout",
     "output_type": "stream",
     "text": [
      "Collecting images for thumbsup\n",
      "Collecting image 0\n",
      "Collecting image 1\n",
      "Collecting image 2\n",
      "Collecting image 3\n",
      "Collecting image 4\n",
      "Collecting images for thumbsdown\n",
      "Collecting image 0\n",
      "Collecting image 1\n",
      "Collecting image 2\n",
      "Collecting image 3\n",
      "Collecting image 4\n",
      "Collecting images for thankyou\n",
      "Collecting image 0\n",
      "Collecting image 1\n",
      "Collecting image 2\n",
      "Collecting image 3\n",
      "Collecting image 4\n",
      "Collecting images for livelong\n",
      "Collecting image 0\n"
     ]
    }
   ],
   "source": [
    "for label in labels:\n",
    "    cap = cv2.VideoCapture(0)\n",
    "    print('Collecting images for {}'.format(label))\n",
    "    time.sleep(5)\n",
    "    for imgnum in range(number_imgs):\n",
    "        print('Collecting image {}'.format(imgnum))\n",
    "        ret, frame = cap.read()\n",
    "        imgname = os.path.join(IMAGES_PATH,label,label+'.'+'{}.jpg'.format(str(uuid.uuid1())))\n",
    "        cv2.imwrite(imgname, frame)\n",
    "        cv2.imshow('frame', frame)\n",
    "        time.sleep(2)\n",
    "\n",
    "        if cv2.waitKey(1) & 0xFF == ord('q'):\n",
    "            break\n",
    "cap.release()\n",
    "cv2.destroyAllWindows()\n"
   ]
  },
  {
   "cell_type": "markdown",
   "metadata": {},
   "source": [
    "# 5. Image Labelling"
   ]
  },
  {
   "cell_type": "code",
   "execution_count": 13,
   "metadata": {},
   "outputs": [
    {
     "name": "stdout",
     "output_type": "stream",
     "text": [
      "Collecting pyqt5\n",
      "  Using cached PyQt5-5.15.9-cp37-abi3-win_amd64.whl (6.8 MB)\n",
      "Requirement already satisfied: lxml in e:\\tfod\\tfodcourse\\tfod\\lib\\site-packages (4.9.2)\n",
      "Collecting PyQt5-sip<13,>=12.11\n",
      "  Downloading PyQt5_sip-12.11.1-cp310-cp310-win_amd64.whl (78 kB)\n",
      "     ---------------------------------------- 0.0/78.4 kB ? eta -:--:--\n",
      "     ---------------------------------------- 78.4/78.4 kB 2.2 MB/s eta 0:00:00\n",
      "Collecting PyQt5-Qt5>=5.15.2\n",
      "  Using cached PyQt5_Qt5-5.15.2-py3-none-win_amd64.whl (50.1 MB)\n",
      "Installing collected packages: PyQt5-Qt5, PyQt5-sip, pyqt5\n",
      "Successfully installed PyQt5-Qt5-5.15.2 PyQt5-sip-12.11.1 pyqt5-5.15.9\n"
     ]
    }
   ],
   "source": [
    "!pip install --upgrade pyqt5 lxml"
   ]
  },
  {
   "cell_type": "code",
   "execution_count": 9,
   "metadata": {},
   "outputs": [],
   "source": [
    "LABELIMG_PATH = os.path.join('Tensorflow', 'labelimg')"
   ]
  },
  {
   "cell_type": "code",
   "execution_count": 11,
   "metadata": {},
   "outputs": [],
   "source": [
    "if not os.path.exists(LABELIMG_PATH):\n",
    "    !mkdir {LABELIMG_PATH}\n",
    "    !git clone https://github.com/tzutalin/labelImg {LABELIMG_PATH}"
   ]
  },
  {
   "cell_type": "code",
   "execution_count": 14,
   "metadata": {},
   "outputs": [],
   "source": [
    "if os.name == 'posix':\n",
    "    !cd {LABELIMG_PATH} && qt5py3\n",
    "if os.name =='nt':\n",
    "    !cd {LABELIMG_PATH} && pyrcc5 -o libs/resources.py resources.qrc"
   ]
  },
  {
   "cell_type": "code",
   "execution_count": 15,
   "metadata": {},
   "outputs": [
    {
     "name": "stdout",
     "output_type": "stream",
     "text": [
      "Image:E:\\TFOD\\TFODCourse\\Tensorflow\\workspace\\images\\collectedimages\\thumbsup\\thumbsup.9cfd6dd3-c979-11ed-98b6-94bc1b814428.jpg -> Annotation:E:/TFOD/TFODCourse/Tensorflow/workspace/images/collectedimages/thumbsup\\thumbsup.9cfd6dd3-c979-11ed-98b6-94bc1b814428.xml\n",
      "Image:E:\\TFOD\\TFODCourse\\Tensorflow\\workspace\\images\\collectedimages\\thumbsup\\thumbsup.9bc44798-c979-11ed-afcb-94bc1b814428.jpg -> Annotation:E:/TFOD/TFODCourse/Tensorflow/workspace/images/collectedimages/thumbsup\\thumbsup.9bc44798-c979-11ed-afcb-94bc1b814428.xml\n",
      "Image:E:\\TFOD\\TFODCourse\\Tensorflow\\workspace\\images\\collectedimages\\thumbsup\\thumbsup.0de4c560-c979-11ed-a65b-94bc1b814428.jpg -> Annotation:E:/TFOD/TFODCourse/Tensorflow/workspace/images/collectedimages/thumbsup\\thumbsup.0de4c560-c979-11ed-a65b-94bc1b814428.xml\n",
      "Image:E:\\TFOD\\TFODCourse\\Tensorflow\\workspace\\images\\collectedimages\\thumbsup\\thumbsup.9e2f61e1-c979-11ed-b4c0-94bc1b814428.jpg -> Annotation:E:/TFOD/TFODCourse/Tensorflow/workspace/images/collectedimages/thumbsup\\thumbsup.9e2f61e1-c979-11ed-b4c0-94bc1b814428.xml\n",
      "Image:E:\\TFOD\\TFODCourse\\Tensorflow\\workspace\\images\\collectedimages\\thumbsup\\thumbsup.9f621726-c979-11ed-8fbd-94bc1b814428.jpg -> Annotation:E:/TFOD/TFODCourse/Tensorflow/workspace/images/collectedimages/thumbsup\\thumbsup.9f621726-c979-11ed-8fbd-94bc1b814428.xml\n",
      "Image:E:\\TFOD\\TFODCourse\\Tensorflow\\workspace\\images\\collectedimages\\thumbsup\\thumbsup.125333a8-c979-11ed-a91b-94bc1b814428.jpg -> Annotation:E:/TFOD/TFODCourse/Tensorflow/workspace/images/collectedimages/thumbsup\\thumbsup.125333a8-c979-11ed-a91b-94bc1b814428.xml\n",
      "Image:E:\\TFOD\\TFODCourse\\Tensorflow\\workspace\\images\\collectedimages\\thumbsup\\thumbsup.d3837a4c-c978-11ed-adc4-94bc1b814428.jpg -> Annotation:E:/TFOD/TFODCourse/Tensorflow/workspace/images/collectedimages/thumbsup\\thumbsup.d3837a4c-c978-11ed-adc4-94bc1b814428.xml\n",
      "Image:E:\\TFOD\\TFODCourse\\Tensorflow\\workspace\\images\\collectedimages\\livelong\\livelong.4bcfd7cf-c979-11ed-8d69-94bc1b814428.jpg -> Annotation:E:/TFOD/TFODCourse/Tensorflow/workspace/images/collectedimages/livelong\\livelong.4bcfd7cf-c979-11ed-8d69-94bc1b814428.xml\n",
      "Image:E:\\TFOD\\TFODCourse\\Tensorflow\\workspace\\images\\collectedimages\\livelong\\livelong.4e4914f8-c979-11ed-8085-94bc1b814428.jpg -> Annotation:E:/TFOD/TFODCourse/Tensorflow/workspace/images/collectedimages/livelong\\livelong.4e4914f8-c979-11ed-8085-94bc1b814428.xml\n",
      "Image:E:\\TFOD\\TFODCourse\\Tensorflow\\workspace\\images\\collectedimages\\livelong\\livelong.54d1d47c-c979-11ed-a9e0-94bc1b814428.jpg -> Annotation:E:/TFOD/TFODCourse/Tensorflow/workspace/images/collectedimages/livelong\\livelong.54d1d47c-c979-11ed-a9e0-94bc1b814428.xml\n",
      "Image:E:\\TFOD\\TFODCourse\\Tensorflow\\workspace\\images\\collectedimages\\livelong\\livelong.491c6c21-c979-11ed-a3d7-94bc1b814428.jpg -> Annotation:E:/TFOD/TFODCourse/Tensorflow/workspace/images/collectedimages/livelong\\livelong.491c6c21-c979-11ed-a3d7-94bc1b814428.xml\n",
      "Image:E:\\TFOD\\TFODCourse\\Tensorflow\\workspace\\images\\collectedimages\\livelong\\livelong.51755d0f-c979-11ed-b391-94bc1b814428.jpg -> Annotation:E:/TFOD/TFODCourse/Tensorflow/workspace/images/collectedimages/livelong\\livelong.51755d0f-c979-11ed-b391-94bc1b814428.xml\n",
      "Image:E:\\TFOD\\TFODCourse\\Tensorflow\\workspace\\images\\collectedimages\\livelong\\livelong.bceb766f-c979-11ed-8502-94bc1b814428.jpg -> Annotation:E:/TFOD/TFODCourse/Tensorflow/workspace/images/collectedimages/livelong\\livelong.bceb766f-c979-11ed-8502-94bc1b814428.xml\n",
      "Image:E:\\TFOD\\TFODCourse\\Tensorflow\\workspace\\images\\collectedimages\\thankyou\\thankyou.3dc769e9-c979-11ed-a21a-94bc1b814428.jpg -> Annotation:E:/TFOD/TFODCourse/Tensorflow/workspace/images/collectedimages/thankyou\\thankyou.3dc769e9-c979-11ed-a21a-94bc1b814428.xml\n",
      "Image:E:\\TFOD\\TFODCourse\\Tensorflow\\workspace\\images\\collectedimages\\thankyou\\thankyou.3b248a82-c979-11ed-9261-94bc1b814428.jpg -> Annotation:E:/TFOD/TFODCourse/Tensorflow/workspace/images/collectedimages/thankyou\\thankyou.3b248a82-c979-11ed-9261-94bc1b814428.xml\n",
      "Image:E:\\TFOD\\TFODCourse\\Tensorflow\\workspace\\images\\collectedimages\\thankyou\\thankyou.30e16bef-c979-11ed-982f-94bc1b814428.jpg -> Annotation:E:/TFOD/TFODCourse/Tensorflow/workspace/images/collectedimages/thankyou\\thankyou.30e16bef-c979-11ed-982f-94bc1b814428.xml\n",
      "Image:E:\\TFOD\\TFODCourse\\Tensorflow\\workspace\\images\\collectedimages\\thankyou\\thankyou.38ad214c-c979-11ed-8e95-94bc1b814428.jpg -> Annotation:E:/TFOD/TFODCourse/Tensorflow/workspace/images/collectedimages/thankyou\\thankyou.38ad214c-c979-11ed-8e95-94bc1b814428.xml\n",
      "Image:E:\\TFOD\\TFODCourse\\Tensorflow\\workspace\\images\\collectedimages\\thankyou\\thankyou.405ccc2a-c979-11ed-a0b6-94bc1b814428.jpg -> Annotation:E:/TFOD/TFODCourse/Tensorflow/workspace/images/collectedimages/thankyou\\thankyou.405ccc2a-c979-11ed-a0b6-94bc1b814428.xml\n",
      "Image:E:\\TFOD\\TFODCourse\\Tensorflow\\workspace\\images\\collectedimages\\thankyou\\thankyou.b1de42e0-c979-11ed-b2eb-94bc1b814428.jpg -> Annotation:E:/TFOD/TFODCourse/Tensorflow/workspace/images/collectedimages/thankyou\\thankyou.b1de42e0-c979-11ed-b2eb-94bc1b814428.xml\n",
      "Image:E:\\TFOD\\TFODCourse\\Tensorflow\\workspace\\images\\collectedimages\\thankyou\\thankyou.b6ab57da-c979-11ed-98c1-94bc1b814428.jpg -> Annotation:E:/TFOD/TFODCourse/Tensorflow/workspace/images/collectedimages/thankyou\\thankyou.b6ab57da-c979-11ed-98c1-94bc1b814428.xml\n",
      "Image:E:\\TFOD\\TFODCourse\\Tensorflow\\workspace\\images\\collectedimages\\thankyou\\thankyou.b4469c72-c979-11ed-9ef1-94bc1b814428.jpg -> Annotation:E:/TFOD/TFODCourse/Tensorflow/workspace/images/collectedimages/thankyou\\thankyou.b4469c72-c979-11ed-9ef1-94bc1b814428.xml\n",
      "Image:E:\\TFOD\\TFODCourse\\Tensorflow\\workspace\\images\\collectedimages\\thankyou\\thankyou.b5790e94-c979-11ed-9892-94bc1b814428.jpg -> Annotation:E:/TFOD/TFODCourse/Tensorflow/workspace/images/collectedimages/thankyou\\thankyou.b5790e94-c979-11ed-9892-94bc1b814428.xml\n",
      "Image:E:\\TFOD\\TFODCourse\\Tensorflow\\workspace\\images\\collectedimages\\thankyou\\thankyou.b314367b-c979-11ed-a86d-94bc1b814428.jpg -> Annotation:E:/TFOD/TFODCourse/Tensorflow/workspace/images/collectedimages/thankyou\\thankyou.b314367b-c979-11ed-a86d-94bc1b814428.xml\n",
      "Image:E:\\TFOD\\TFODCourse\\Tensorflow\\workspace\\images\\collectedimages\\thumbsdown\\thumbsdown.236786e6-c979-11ed-8c40-94bc1b814428.jpg -> Annotation:E:/TFOD/TFODCourse/Tensorflow/workspace/images/collectedimages/thumbsdown\\thumbsdown.236786e6-c979-11ed-8c40-94bc1b814428.xml\n",
      "Image:E:\\TFOD\\TFODCourse\\Tensorflow\\workspace\\images\\collectedimages\\thumbsdown\\thumbsdown.2628935b-c979-11ed-a0b4-94bc1b814428.jpg -> Annotation:E:/TFOD/TFODCourse/Tensorflow/workspace/images/collectedimages/thumbsdown\\thumbsdown.2628935b-c979-11ed-a0b4-94bc1b814428.xml\n",
      "Image:E:\\TFOD\\TFODCourse\\Tensorflow\\workspace\\images\\collectedimages\\thumbsdown\\thumbsdown.a6d345aa-c979-11ed-8ae2-94bc1b814428.jpg -> Annotation:E:/TFOD/TFODCourse/Tensorflow/workspace/images/collectedimages/thumbsdown\\thumbsdown.a6d345aa-c979-11ed-8ae2-94bc1b814428.xml\n",
      "Image:E:\\TFOD\\TFODCourse\\Tensorflow\\workspace\\images\\collectedimages\\thumbsdown\\thumbsdown.a93acb0f-c979-11ed-adf5-94bc1b814428.jpg -> Annotation:E:/TFOD/TFODCourse/Tensorflow/workspace/images/collectedimages/thumbsdown\\thumbsdown.a93acb0f-c979-11ed-adf5-94bc1b814428.xml\n",
      "Image:E:\\TFOD\\TFODCourse\\Tensorflow\\workspace\\images\\collectedimages\\thumbsdown\\thumbsdown.a807ea65-c979-11ed-b601-94bc1b814428.jpg -> Annotation:E:/TFOD/TFODCourse/Tensorflow/workspace/images/collectedimages/thumbsdown\\thumbsdown.a807ea65-c979-11ed-b601-94bc1b814428.xml\n",
      "Image:E:\\TFOD\\TFODCourse\\Tensorflow\\workspace\\images\\collectedimages\\thumbsdown\\thumbsdown.aa6cdd08-c979-11ed-ba2a-94bc1b814428.jpg -> Annotation:E:/TFOD/TFODCourse/Tensorflow/workspace/images/collectedimages/thumbsdown\\thumbsdown.aa6cdd08-c979-11ed-ba2a-94bc1b814428.xml\n",
      "Image:E:\\TFOD\\TFODCourse\\Tensorflow\\workspace\\images\\collectedimages\\thumbsdown\\thumbsdown.ab9f433f-c979-11ed-8dc3-94bc1b814428.jpg -> Annotation:E:/TFOD/TFODCourse/Tensorflow/workspace/images/collectedimages/thumbsdown\\thumbsdown.ab9f433f-c979-11ed-8dc3-94bc1b814428.xml\n",
      "Image:E:\\TFOD\\TFODCourse\\Tensorflow\\workspace\\images\\collectedimages\\thumbsdown\\thumbsdown.1af2723d-c979-11ed-81b5-94bc1b814428.jpg -> Annotation:E:/TFOD/TFODCourse/Tensorflow/workspace/images/collectedimages/thumbsdown/thumbsdown.1af2723d-c979-11ed-81b5-94bc1b814428.xml\n",
      "Image:E:\\TFOD\\TFODCourse\\Tensorflow\\workspace\\images\\collectedimages\\thumbsdown\\thumbsdown.1e0ba14b-c979-11ed-996f-94bc1b814428.jpg -> Annotation:E:/TFOD/TFODCourse/Tensorflow/workspace/images/collectedimages/thumbsdown/thumbsdown.1e0ba14b-c979-11ed-996f-94bc1b814428.xml\n",
      "Image:E:\\TFOD\\TFODCourse\\Tensorflow\\workspace\\images\\collectedimages\\thumbsdown\\thumbsdown.236786e6-c979-11ed-8c40-94bc1b814428.jpg -> Annotation:E:/TFOD/TFODCourse/Tensorflow/workspace/images/collectedimages/thumbsdown/thumbsdown.236786e6-c979-11ed-8c40-94bc1b814428.xml\n",
      "Image:E:\\TFOD\\TFODCourse\\Tensorflow\\workspace\\images\\collectedimages\\thumbsdown\\thumbsdown.2628935b-c979-11ed-a0b4-94bc1b814428.jpg -> Annotation:E:/TFOD/TFODCourse/Tensorflow/workspace/images/collectedimages/thumbsdown/thumbsdown.2628935b-c979-11ed-a0b4-94bc1b814428.xml\n"
     ]
    }
   ],
   "source": [
    "!cd {LABELIMG_PATH} && python labelImg.py"
   ]
  },
  {
   "cell_type": "markdown",
   "metadata": {},
   "source": [
    "# 6. Move them into a Training and Testing Partition"
   ]
  },
  {
   "cell_type": "markdown",
   "metadata": {},
   "source": [
    "# OPTIONAL - 7. Compress them for Colab Training"
   ]
  },
  {
   "cell_type": "code",
   "execution_count": null,
   "metadata": {},
   "outputs": [],
   "source": [
    "TRAIN_PATH = os.path.join('Tensorflow', 'workspace', 'images', 'train')\n",
    "TEST_PATH = os.path.join('Tensorflow', 'workspace', 'images', 'test')\n",
    "ARCHIVE_PATH = os.path.join('Tensorflow', 'workspace', 'images', 'archive.tar.gz')"
   ]
  },
  {
   "cell_type": "code",
   "execution_count": null,
   "metadata": {},
   "outputs": [],
   "source": [
    "!tar -czf {ARCHIVE_PATH} {TRAIN_PATH} {TEST_PATH}"
   ]
  },
  {
   "cell_type": "code",
   "execution_count": null,
   "metadata": {},
   "outputs": [],
   "source": []
  }
 ],
 "metadata": {
  "kernelspec": {
   "display_name": "tfod",
   "language": "python",
   "name": "tfod"
  },
  "language_info": {
   "codemirror_mode": {
    "name": "ipython",
    "version": 3
   },
   "file_extension": ".py",
   "mimetype": "text/x-python",
   "name": "python",
   "nbconvert_exporter": "python",
   "pygments_lexer": "ipython3",
   "version": "3.10.0"
  }
 },
 "nbformat": 4,
 "nbformat_minor": 2
}
